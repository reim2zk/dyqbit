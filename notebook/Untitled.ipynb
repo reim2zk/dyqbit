{
 "cells": [
  {
   "cell_type": "markdown",
   "metadata": {},
   "source": [
    "# Intro"
   ]
  },
  {
   "cell_type": "markdown",
   "metadata": {},
   "source": [
    "qbit上のシュレーディンガー方程式を解くためのライブラリを作るための、try/err"
   ]
  },
  {
   "cell_type": "markdown",
   "metadata": {},
   "source": [
    "# Theoretical background"
   ]
  },
  {
   "cell_type": "markdown",
   "metadata": {},
   "source": [
    "$\\left|\\psi\\right> = c_i\\left|s_1^i\\cdots s_N^i\\right> $\n",
    "\n",
    "$H = J_{ij}\\sigma^z_i\\sigma^z_j - h_i\\sigma_i^z$"
   ]
  },
  {
   "cell_type": "markdown",
   "metadata": {},
   "source": [
    "# Import"
   ]
  },
  {
   "cell_type": "code",
   "execution_count": 15,
   "metadata": {},
   "outputs": [],
   "source": [
    "import numpy as np"
   ]
  },
  {
   "cell_type": "markdown",
   "metadata": {},
   "source": [
    "# Slow ising model"
   ]
  },
  {
   "cell_type": "code",
   "execution_count": 19,
   "metadata": {},
   "outputs": [],
   "source": [
    "from itertools import product\n",
    "\n",
    "Spin = int\n",
    "Spins = List[Spin]\n",
    "\n",
    "def all_spins(alpha: Spin, beta: Spin, num_spin: int) -> List[Spins]:\n",
    "    sigmas_list = [[alpha, beta] for _ in range(num_spin)]\n",
    "    return [list(sigmas) for sigmas in product(*sigmas_list)]\n",
    "\n",
    "\n",
    "class IsingBasisSet:\n",
    "    def __init__(self, sigmas_list):\n",
    "        self.num_spin = len(sigmas_list[0])\n",
    "        for sigmas in sigmas_list:\n",
    "            assert(self.num_spin == len(sigmas))\n",
    "        self.sigmas_list = sigmas_list\n",
    "\n",
    "    def dim(self)->int:\n",
    "        return len(self.sigmas_list)\n",
    "\n",
    "    def single_flip(self, sigmas_i: list, sigmas_j: list) ->(bool, int):\n",
    "        n = self.num_spin\n",
    "        if n != len(sigmas_j):\n",
    "            return False, -1\n",
    "        elif np.dot(sigmas_i, sigmas_j) == n-2:\n",
    "            i0s = [i for i in range(n) if sigmas_i[i] != sigmas_j[i]]\n",
    "            return True, i0s[0]\n",
    "        else:\n",
    "            return False, -1\n",
    "\n",
    "\n",
    "class IsingModelSlow:\n",
    "    \"\"\" represent ising model Hamiltonian\n",
    "        H = J_{ij}(\\sigma^z_i)(\\sigma^z_j) + (h_i)(\\sigma^z_i)\n",
    "    \"\"\"\n",
    "    def __init__(self, basis_set: IsingBasisSet, js: Dict[Tuple[int, int], float], hs: List[float]):\n",
    "        super().__init__(basis_set.dim())\n",
    "        self.basis_set = basis_set\n",
    "        self.js = js\n",
    "        self.hs = hs\n",
    "        self.energies = None\n",
    "\n",
    "    def calc_tid_energies(self) -> np.array:\n",
    "        if self.energies is None:\n",
    "            self.energies = np.array([\n",
    "                -np.sum([j_ij*sigmas[i]*sigmas[j]\n",
    "                         for ((i, j), j_ij) in self.js.items()])\n",
    "                - np.dot(self.hs, sigmas)\n",
    "                for sigmas in self.basis_set.sigmas_list])\n",
    "        return self.energies\n",
    "\n",
    "    def calc_tid_i_dot_c(self, c: np.ndarray) -> np.ndarray:\n",
    "        return np.multiply(self.calc_tid_energies(), c)\n",
    "\n",
    "    def to_str(self, n: int):\n",
    "        return (\"{0}IsingModel\\n\"\n",
    "            \"{0} num_spin: {1}\\n\"\n",
    "            \"{0} dim: {2}\\n\"\n",
    "            \"{0} js: {3}\\n\"\n",
    "            \"{0} hs: {4}\\n\").format(\n",
    "            \" \"*n, self.basis_set.num_spin,\n",
    "            self.basis_set.dim(), self.js, self.hs)"
   ]
  },
  {
   "cell_type": "code",
   "execution_count": 21,
   "metadata": {},
   "outputs": [
    {
     "data": {
      "text/plain": [
       "[[0, 0, 0, 0],\n",
       " [0, 0, 0, 1],\n",
       " [0, 0, 1, 0],\n",
       " [0, 0, 1, 1],\n",
       " [0, 1, 0, 0],\n",
       " [0, 1, 0, 1],\n",
       " [0, 1, 1, 0],\n",
       " [0, 1, 1, 1],\n",
       " [1, 0, 0, 0],\n",
       " [1, 0, 0, 1],\n",
       " [1, 0, 1, 0],\n",
       " [1, 0, 1, 1],\n",
       " [1, 1, 0, 0],\n",
       " [1, 1, 0, 1],\n",
       " [1, 1, 1, 0],\n",
       " [1, 1, 1, 1]]"
      ]
     },
     "execution_count": 21,
     "metadata": {},
     "output_type": "execute_result"
    }
   ],
   "source": [
    "all_spins(0, 1, 4)"
   ]
  },
  {
   "cell_type": "markdown",
   "metadata": {},
   "source": [
    "# Type definition"
   ]
  },
  {
   "cell_type": "code",
   "execution_count": 1,
   "metadata": {},
   "outputs": [],
   "source": [
    "from typing import List, Dict, Callable, Tuple"
   ]
  },
  {
   "cell_type": "code",
   "execution_count": 9,
   "metadata": {},
   "outputs": [],
   "source": [
    "class QuantumState:\n",
    "    \"\"\"\n",
    "    Quantum state on q-bits.\n",
    "    \n",
    "    self.state_vector[i] gives \n",
    "    \"\"\"\n",
    "    def __init__(self, qbit_count: int):\n",
    "        self.qbit_count = qbit_count\n",
    "        self.dim = 2**qbit_count\n",
    "        self.state_vector = np.zero(self.qbit_count)\n",
    "        self.state_vector[0] = 1.0\n",
    "        \n",
    "    def "
   ]
  },
  {
   "cell_type": "code",
   "execution_count": 7,
   "metadata": {},
   "outputs": [],
   "source": [
    "class IsingModel:\n",
    "    def __init__(self, \n",
    "                 J_ij: Dict[Tuple[int, int], float], \n",
    "                 h_i: List[float], \n",
    "                 a_t: Callable[[float], float],\n",
    "                 b_t: Callable[[float], float]):\n",
    "        self.J_ij = J_ij\n",
    "        self.h_i = h_i\n",
    "        self.a_t = a_t\n",
    "        self.b_t = b_t"
   ]
  },
  {
   "cell_type": "markdown",
   "metadata": {},
   "source": [
    "# Traverse magnetic"
   ]
  },
  {
   "cell_type": "code",
   "execution_count": 11,
   "metadata": {},
   "outputs": [
    {
     "ename": "NameError",
     "evalue": "name 'TIDQuantumModel' is not defined",
     "output_type": "error",
     "traceback": [
      "\u001b[0;31m---------------------------------------------------------------------------\u001b[0m",
      "\u001b[0;31mNameError\u001b[0m                                 Traceback (most recent call last)",
      "\u001b[0;32m<ipython-input-11-7f04cd3b8e7a>\u001b[0m in \u001b[0;36m<module>\u001b[0;34m\u001b[0m\n\u001b[1;32m      1\u001b[0m \u001b[0;34m\u001b[0m\u001b[0m\n\u001b[0;32m----> 2\u001b[0;31m \u001b[0;32mclass\u001b[0m \u001b[0mIsingTraverseMagnetModel\u001b[0m\u001b[0;34m(\u001b[0m\u001b[0mTIDQuantumModel\u001b[0m\u001b[0;34m)\u001b[0m\u001b[0;34m:\u001b[0m\u001b[0;34m\u001b[0m\u001b[0;34m\u001b[0m\u001b[0m\n\u001b[0m\u001b[1;32m      3\u001b[0m     \u001b[0;32mdef\u001b[0m \u001b[0m__init__\u001b[0m\u001b[0;34m(\u001b[0m\u001b[0mself\u001b[0m\u001b[0;34m,\u001b[0m \u001b[0mbasis_set\u001b[0m\u001b[0;34m:\u001b[0m \u001b[0mIsingBasisSet\u001b[0m\u001b[0;34m)\u001b[0m\u001b[0;34m:\u001b[0m\u001b[0;34m\u001b[0m\u001b[0;34m\u001b[0m\u001b[0m\n\u001b[1;32m      4\u001b[0m         \u001b[0msuper\u001b[0m\u001b[0;34m(\u001b[0m\u001b[0;34m)\u001b[0m\u001b[0;34m.\u001b[0m\u001b[0m__init__\u001b[0m\u001b[0;34m(\u001b[0m\u001b[0mbasis_set\u001b[0m\u001b[0;34m.\u001b[0m\u001b[0mdim\u001b[0m\u001b[0;34m(\u001b[0m\u001b[0;34m)\u001b[0m\u001b[0;34m)\u001b[0m\u001b[0;34m\u001b[0m\u001b[0;34m\u001b[0m\u001b[0m\n\u001b[1;32m      5\u001b[0m         \u001b[0mself\u001b[0m\u001b[0;34m.\u001b[0m\u001b[0mbasis_set\u001b[0m \u001b[0;34m=\u001b[0m \u001b[0mbasis_set\u001b[0m\u001b[0;34m\u001b[0m\u001b[0;34m\u001b[0m\u001b[0m\n",
      "\u001b[0;31mNameError\u001b[0m: name 'TIDQuantumModel' is not defined"
     ]
    }
   ],
   "source": [
    "class IsingTraverseMagnetModel(TIDQuantumModel):\n",
    "    def __init__(self, basis_set: IsingBasisSet):\n",
    "        super().__init__(basis_set.dim())\n",
    "        self.basis_set = basis_set\n",
    "        self.h = None\n",
    "\n",
    "    def calc_tid_hamiltonian(self):\n",
    "        sigmas_list = self.basis_set.sigmas_list\n",
    "        dim = self.dim\n",
    "        data = []\n",
    "        row = []\n",
    "        col = []\n",
    "        for i in range(dim):\n",
    "            for j in range(i):\n",
    "                sigma_i = sigmas_list[i]\n",
    "                sigma_j = sigmas_list[j]\n",
    "                res = self.basis_set.single_flip(sigma_i, sigma_j)\n",
    "                if res[0]:\n",
    "                    data.append(-1.0)\n",
    "                    data.append(-1.0)\n",
    "                    row.append(i)\n",
    "                    row.append(j)\n",
    "                    col.append(j)\n",
    "                    col.append(i)\n",
    "\n",
    "        return bsr_matrix((data, (row, col)), shape=(dim, dim))\n",
    "\n",
    "    def calc_tid_i_dot_c(self, c: np.ndarray) -> np.ndarray:\n",
    "        if self.h is None:\n",
    "            self.h = self.calc_tid_hamiltonian()\n",
    "        return self.h*c\n",
    "\n",
    "    def to_str(self, n: int):\n",
    "        return (\"{0}IsingTraverseMagnetModel\\n\"\n",
    "                \"{0} num_spin: {1}\\n\"\n",
    "                \"{0} dim: {2}\\n\").format(\" \"*n, self.basis_set.num_spin, self.basis_set.dim())"
   ]
  }
 ],
 "metadata": {
  "kernelspec": {
   "display_name": "Python 3",
   "language": "python",
   "name": "python3"
  },
  "language_info": {
   "codemirror_mode": {
    "name": "ipython",
    "version": 3
   },
   "file_extension": ".py",
   "mimetype": "text/x-python",
   "name": "python",
   "nbconvert_exporter": "python",
   "pygments_lexer": "ipython3",
   "version": "3.7.3"
  }
 },
 "nbformat": 4,
 "nbformat_minor": 2
}
